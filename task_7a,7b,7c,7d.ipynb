{
  "nbformat": 4,
  "nbformat_minor": 0,
  "metadata": {
    "colab": {
      "provenance": [],
      "authorship_tag": "ABX9TyPrxPI6IFpFZklakt1rZBr9",
      "include_colab_link": true
    },
    "kernelspec": {
      "name": "python3",
      "display_name": "Python 3"
    },
    "language_info": {
      "name": "python"
    }
  },
  "cells": [
    {
      "cell_type": "markdown",
      "metadata": {
        "id": "view-in-github",
        "colab_type": "text"
      },
      "source": [
        "<a href=\"https://colab.research.google.com/github/lakshitha-4032007/python-tasks/blob/main/task_7a%2C7b%2C7c%2C7d.ipynb\" target=\"_parent\"><img src=\"https://colab.research.google.com/assets/colab-badge.svg\" alt=\"Open In Colab\"/></a>"
      ]
    },
    {
      "cell_type": "code",
      "execution_count": 20,
      "metadata": {
        "colab": {
          "base_uri": "https://localhost:8080/"
        },
        "id": "wLP4kSnE_rvk",
        "outputId": "beb803e9-4741-41e8-e1e9-435545dc48d8"
      },
      "outputs": [
        {
          "output_type": "stream",
          "name": "stdout",
          "text": [
            "Quantity: 8, Discount: 0%\n",
            "Quantity: 15, Discount: 15%\n",
            "Quantity: 25, Discount: 20%\n",
            "--------------------\n",
            "Double the number of 15 = 30\n",
            "Triple the number of 15 = 45\n",
            "Quadruple the number of 15 = 60\n",
            "Quintuple the number of 15 = 75\n",
            "--------------------\n",
            "Adult Tickets: [202, 404, 606, 808]\n",
            "Child Tickets: [101, 303, 505, 707]\n"
          ]
        }
      ],
      "source": [
        "class Item:\n",
        "    # Correction: The constructor method must be spelled __init__ (double underscores)\n",
        "    def __init__(self, Qty):\n",
        "        self.Qty = Qty\n",
        "        self.Discount = 0\n",
        "\n",
        "    def FindDisc(self):\n",
        "        if self.Qty <= 10:\n",
        "            self.Discount = 0\n",
        "        elif 11 <= self.Qty < 20:\n",
        "            self.Discount = 15\n",
        "        elif self.Qty >= 20:\n",
        "            self.Discount = 20\n",
        "\n",
        "# --- Item Class Usage ---\n",
        "\n",
        "item1 = Item(8)\n",
        "item1.FindDisc()\n",
        "print(f\"Quantity: {item1.Qty}, Discount: {item1.Discount}%\")\n",
        "\n",
        "item2 = Item(15)\n",
        "item2.FindDisc()\n",
        "print(f\"Quantity: {item2.Qty}, Discount: {item2.Discount}%\")\n",
        "\n",
        "item3 = Item(25)\n",
        "item3.FindDisc()\n",
        "print(f\"Quantity: {item3.Qty}, Discount: {item3.Discount}%\")\n",
        "\n",
        "print(\"-\" * 20)\n",
        "\n",
        "# --- Closure Function Example ---\n",
        "\n",
        "def multiplier(n):\n",
        "    # This nested function \"closes over\" the variable 'n' from the outer scope.\n",
        "    def multiply(x):\n",
        "        return n * x\n",
        "    return multiply\n",
        "\n",
        "double = multiplier(2)\n",
        "triple = multiplier(3)\n",
        "quadruple = multiplier(4)\n",
        "quintuple = multiplier(5)\n",
        "\n",
        "number = 15\n",
        "\n",
        "print(\"Double the number of\", number, \"=\", double(number))\n",
        "print(\"Triple the number of\", number, \"=\", triple(number))\n",
        "print(\"Quadruple the number of\", number, \"=\", quadruple(number))\n",
        "print(\"Quintuple the number of\", number, \"=\", quintuple(number))\n",
        "\n",
        "print(\"-\" * 20)\n",
        "\n",
        "# --- Lambda and Filter Example ---\n",
        "\n",
        "ticket_ids = [101, 202, 303, 404, 505, 606, 707, 808]\n",
        "\n",
        "# Filter returns a new iterable containing elements that satisfy the condition (x % 2 == 0)\n",
        "adult_tickets = list(filter(lambda x: x % 2 == 0, ticket_ids))\n",
        "# The original code's logic assumes even IDs are adult and odd IDs are child.\n",
        "child_tickets = list(filter(lambda x: x % 2 != 0, ticket_ids))\n",
        "\n",
        "print(\"Adult Tickets:\", adult_tickets)\n",
        "print(\"Child Tickets:\", child_tickets)\n"
      ]
    }
  ]
}