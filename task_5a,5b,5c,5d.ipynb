{
  "nbformat": 4,
  "nbformat_minor": 0,
  "metadata": {
    "colab": {
      "provenance": [],
      "authorship_tag": "ABX9TyORdk4V1eNb5HJzQ0ek58YZ",
      "include_colab_link": true
    },
    "kernelspec": {
      "name": "python3",
      "display_name": "Python 3"
    },
    "language_info": {
      "name": "python"
    }
  },
  "cells": [
    {
      "cell_type": "markdown",
      "metadata": {
        "id": "view-in-github",
        "colab_type": "text"
      },
      "source": [
        "<a href=\"https://colab.research.google.com/github/lakshitha-4032007/python-tasks/blob/main/task_5a%2C5b%2C5c%2C5d.ipynb\" target=\"_parent\"><img src=\"https://colab.research.google.com/assets/colab-badge.svg\" alt=\"Open In Colab\"/></a>"
      ]
    },
    {
      "cell_type": "code",
      "execution_count": null,
      "metadata": {
        "colab": {
          "base_uri": "https://localhost:8080/"
        },
        "id": "wLP4kSnE_rvk",
        "outputId": "1e640d18-5b6d-4b24-a105-d14e1880258f"
      },
      "outputs": [
        {
          "output_type": "stream",
          "name": "stdout",
          "text": [
            "Element found at index: 2\n",
            "4\n",
            "-1\n"
          ]
        }
      ],
      "source": [
        "def linear_search(arr, x):\n",
        "    for i in range(len(arr)):\n",
        "        if arr[i] == x:\n",
        "            return i\n",
        "    return -1\n",
        "\n",
        "arr = [10, 20, 30, 40, 50]\n",
        "x = 30\n",
        "result = linear_search(arr, x)\n",
        "print(\"Element found at index:\", result if result != -1 else \"Element not found\")\n",
        "\n",
        "\n",
        "def binary_search(nums, target):\n",
        "    left = 0\n",
        "    right = len(nums) - 1\n",
        "    while left <= right:\n",
        "        mid = (left + right) // 2\n",
        "        if nums[mid] == target:\n",
        "            return mid\n",
        "        elif nums[mid] < target:\n",
        "            left = mid + 1\n",
        "        else:\n",
        "            right = mid - 1\n",
        "    return -1\n",
        "\n",
        "nums1 = [-1, 0, 3, 5, 9, 12]\n",
        "target1 = 9\n",
        "print(binary_search(nums1, target1))\n",
        "\n",
        "nums2 = [-1, 0, 3, 5, 9, 12]\n",
        "target2 = 2\n",
        "print(binary_search(nums2, target2))\n",
        "\n",
        "def bubble_sort(arr):\n",
        "    n = len(arr)\n",
        "    for i in range(n):\n",
        "        for j in range(0, n - i - 1):\n",
        "            if arr[j] > arr[j + 1]:\n",
        "                arr[j], arr[j + 1] = arr[j + 1], arr[j]\n",
        "\n",
        "n = int(input())\n",
        "arr = []\n",
        "for _ in range(n):\n",
        "    arr.append(int(input()))\n",
        "\n",
        "bubble_sort(arr)\n",
        "\n",
        "print(\"Sequence of integers:\", arr[0], \"to\", arr[-1])\n",
        "\n",
        "\n",
        "exam_scores = [87, 65, 92, 78, 55, 70, 82]\n",
        "print(\"Initial exam scores:\", exam_scores)\n",
        "print(\"Sorting using Selection Sort:\")\n",
        "\n",
        "n = len(exam_scores)\n",
        "for i in range(n):\n",
        "    min_idx = i\n",
        "    for j in range(i+1, n):\n",
        "        if exam_scores[j] < exam_scores[min_idx]:\n",
        "            min_idx = j\n",
        "    exam_scores[i], exam_scores[min_idx] = exam_scores[min_idx], exam_scores[i]\n",
        "    print(f\"After iteration {i + 1} :\", exam_scores)\n",
        "\n",
        "print(\"Final sorted exam scores:\", exam_scores)"
      ]
    }
  ]
}