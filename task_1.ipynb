{
  "nbformat": 4,
  "nbformat_minor": 0,
  "metadata": {
    "colab": {
      "provenance": [],
      "authorship_tag": "ABX9TyOkOvfGl2Cd0f/vRj4EtDlZ",
      "include_colab_link": true
    },
    "kernelspec": {
      "name": "python3",
      "display_name": "Python 3"
    },
    "language_info": {
      "name": "python"
    }
  },
  "cells": [
    {
      "cell_type": "markdown",
      "metadata": {
        "id": "view-in-github",
        "colab_type": "text"
      },
      "source": [
        "<a href=\"https://colab.research.google.com/github/lakshitha-4032007/python-tasks/blob/main/task_1.ipynb\" target=\"_parent\"><img src=\"https://colab.research.google.com/assets/colab-badge.svg\" alt=\"Open In Colab\"/></a>"
      ]
    },
    {
      "cell_type": "code",
      "execution_count": 5,
      "metadata": {
        "colab": {
          "base_uri": "https://localhost:8080/"
        },
        "id": "wLP4kSnE_rvk",
        "outputId": "d48275c8-f952-4adf-e9fc-d343ea4386ac"
      },
      "outputs": [
        {
          "output_type": "stream",
          "name": "stdout",
          "text": [
            "Hello, World!\n",
            "The sum of 10 and 5 is: 15\n"
          ]
        }
      ],
      "source": [
        "name = \"World\"\n",
        "a = 10\n",
        "b = 5\n",
        "\n",
        "sum_result = a + b\n",
        "\n",
        "# 3. Print the results\n",
        "print(f\"Hello, {name}!\")\n",
        "print(f\"The sum of {a} and {b} is: {sum_result}\")"
      ]
    }
  ]
}