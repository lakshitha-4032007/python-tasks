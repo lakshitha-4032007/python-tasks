{
  "nbformat": 4,
  "nbformat_minor": 0,
  "metadata": {
    "colab": {
      "provenance": [],
      "authorship_tag": "ABX9TyNBHslDtavfK8Mg2WCLj6Tw",
      "include_colab_link": true
    },
    "kernelspec": {
      "name": "python3",
      "display_name": "Python 3"
    },
    "language_info": {
      "name": "python"
    }
  },
  "cells": [
    {
      "cell_type": "markdown",
      "metadata": {
        "id": "view-in-github",
        "colab_type": "text"
      },
      "source": [
        "<a href=\"https://colab.research.google.com/github/lakshitha-4032007/python-tasks/blob/main/task_6a%2C6b%2C6c%2C6d.ipynb\" target=\"_parent\"><img src=\"https://colab.research.google.com/assets/colab-badge.svg\" alt=\"Open In Colab\"/></a>"
      ]
    },
    {
      "cell_type": "code",
      "execution_count": null,
      "metadata": {
        "colab": {
          "base_uri": "https://localhost:8080/"
        },
        "id": "wLP4kSnE_rvk",
        "outputId": "50e3d8e6-164a-4a10-f229-6dc6918245fb"
      },
      "outputs": [
        {
          "output_type": "stream",
          "name": "stdout",
          "text": [
            "learn.txt\n",
            "learn.txt\n",
            "Enter the file name to create: sample.txt\n",
            "Enter the contents of the file (press Enter on an empty line to finish):\n",
            "hi welcome to python class\n",
            "lets try python\n",
            "thkuh\n",
            "\n",
            "\n",
            "Contents of the file:\n",
            "hi welcome to python class\n",
            "lets try python\n",
            "thkuh\n",
            "\n",
            "\n",
            "Enter the letter to count occurrences: r\n",
            "\n",
            "The letter 'r' occurs 1 times in the file.\n"
          ]
        }
      ],
      "source": [
        "def copy_file(source_file, destination_file):\n",
        "    with open(source_file, 'r') as src:\n",
        "        content = src.read()\n",
        "    with open(destination_file, 'w') as dest:\n",
        "        dest.write(content)\n",
        "\n",
        "input_text = input()\n",
        "with open('file1.txt', 'w') as f1:\n",
        "    f1.write(input_text)\n",
        "\n",
        "copy_file('file1.txt', 'file2.txt')\n",
        "\n",
        "with open('file2.txt', 'r') as f2:\n",
        "    print(f2.read())\n",
        "\n",
        "def create_file_and_count_occurrences():\n",
        "    file_name = input(\"Enter the file name to create: \")\n",
        "\n",
        "    with open(file_name, 'w') as file:\n",
        "        print(\"Enter the contents of the file (press Enter on an empty line to finish):\")\n",
        "        while True:\n",
        "            line = input()\n",
        "            if not line:\n",
        "                break\n",
        "            file.write(line + '\\n')\n",
        "\n",
        "    print(\"\\nContents of the file:\")\n",
        "    with open(file_name, 'r') as file:\n",
        "        print(file.read())\n",
        "\n",
        "    letter = input(\"\\nEnter the letter to count occurrences: \")\n",
        "    with open(file_name, 'r') as file:\n",
        "        content = file.read()\n",
        "        count = content.count(letter)\n",
        "        print(f\"\\nThe letter '{letter}' occurs {count} times in the file.\")\n",
        "\n",
        "create_file_and_count_occurrences()\n",
        "\n",
        "file_name = input()\n",
        "num_lines = int(input())\n",
        "\n",
        "with open(file_name, 'w') as f:\n",
        "    for _ in range(num_lines):\n",
        "        line = input()\n",
        "        f.write(line + '\\n')\n",
        "\n",
        "with open(file_name, 'r') as f:\n",
        "    content = f.read()\n",
        "    print(content)\n",
        "    words = content.split()\n",
        "    print(\"Number of words:\")\n",
        "    print(len(words))\n",
        "\n",
        "import pandas as pd\n",
        "\n",
        "file_name = input(\"Enter CSV file name (with .csv extension): \")\n",
        "\n",
        "try:\n",
        "    data = pd.read_csv(file_name)\n",
        "    print(\"\\nContents of the CSV file:\")\n",
        "    print(data)\n",
        "except FileNotFoundError:\n",
        "    print(\"File not found. Please make sure the file exists in the correct path.\")\n",
        "except pd.errors.EmptyDataError:\n",
        "    print(\"The file is empty.\")\n",
        "except pd.errors.ParserError:\n",
        "    print(\"Error parsing the CSV file.\")"
      ]
    }
  ]
}