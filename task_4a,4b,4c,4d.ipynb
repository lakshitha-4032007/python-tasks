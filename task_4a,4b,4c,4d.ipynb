{
  "nbformat": 4,
  "nbformat_minor": 0,
  "metadata": {
    "colab": {
      "provenance": [],
      "authorship_tag": "ABX9TyPFu/1PWSaCLqRTGu/4Xq+j",
      "include_colab_link": true
    },
    "kernelspec": {
      "name": "python3",
      "display_name": "Python 3"
    },
    "language_info": {
      "name": "python"
    }
  },
  "cells": [
    {
      "cell_type": "markdown",
      "metadata": {
        "id": "view-in-github",
        "colab_type": "text"
      },
      "source": [
        "<a href=\"https://colab.research.google.com/github/lakshitha-4032007/python-tasks/blob/main/task_4a%2C4b%2C4c%2C4d.ipynb\" target=\"_parent\"><img src=\"https://colab.research.google.com/assets/colab-badge.svg\" alt=\"Open In Colab\"/></a>"
      ]
    },
    {
      "cell_type": "code",
      "execution_count": 11,
      "metadata": {
        "colab": {
          "base_uri": "https://localhost:8080/",
          "height": 228
        },
        "id": "wLP4kSnE_rvk",
        "outputId": "2a0361e2-34d1-4f6c-e743-9a44558a617f"
      },
      "outputs": [
        {
          "name": "stdout",
          "output_type": "stream",
          "text": [
            "[12,11]\n"
          ]
        },
        {
          "output_type": "error",
          "ename": "ValueError",
          "evalue": "invalid literal for int() with base 10: '[12,11]'",
          "traceback": [
            "\u001b[0;31m---------------------------------------------------------------------------\u001b[0m",
            "\u001b[0;31mValueError\u001b[0m                                Traceback (most recent call last)",
            "\u001b[0;32m/tmp/ipython-input-4289231171.py\u001b[0m in \u001b[0;36m<cell line: 0>\u001b[0;34m()\u001b[0m\n\u001b[0;32m----> 1\u001b[0;31m \u001b[0mn\u001b[0m \u001b[0;34m=\u001b[0m \u001b[0mint\u001b[0m\u001b[0;34m(\u001b[0m\u001b[0minput\u001b[0m\u001b[0;34m(\u001b[0m\u001b[0;34m)\u001b[0m\u001b[0;34m)\u001b[0m\u001b[0;34m\u001b[0m\u001b[0;34m\u001b[0m\u001b[0m\n\u001b[0m\u001b[1;32m      2\u001b[0m \u001b[0mlst\u001b[0m \u001b[0;34m=\u001b[0m \u001b[0;34m[\u001b[0m\u001b[0;34m]\u001b[0m\u001b[0;34m\u001b[0m\u001b[0;34m\u001b[0m\u001b[0m\n\u001b[1;32m      3\u001b[0m \u001b[0;34m\u001b[0m\u001b[0m\n\u001b[1;32m      4\u001b[0m \u001b[0;32mfor\u001b[0m \u001b[0m_\u001b[0m \u001b[0;32min\u001b[0m \u001b[0mrange\u001b[0m\u001b[0;34m(\u001b[0m\u001b[0mn\u001b[0m\u001b[0;34m)\u001b[0m\u001b[0;34m:\u001b[0m\u001b[0;34m\u001b[0m\u001b[0;34m\u001b[0m\u001b[0m\n\u001b[1;32m      5\u001b[0m     \u001b[0mcmd\u001b[0m \u001b[0;34m=\u001b[0m \u001b[0minput\u001b[0m\u001b[0;34m(\u001b[0m\u001b[0;34m)\u001b[0m\u001b[0;34m.\u001b[0m\u001b[0msplit\u001b[0m\u001b[0;34m(\u001b[0m\u001b[0;34m)\u001b[0m\u001b[0;34m\u001b[0m\u001b[0;34m\u001b[0m\u001b[0m\n",
            "\u001b[0;31mValueError\u001b[0m: invalid literal for int() with base 10: '[12,11]'"
          ]
        }
      ],
      "source": [
        "n = int(input())\n",
        "lst = []\n",
        "\n",
        "for _ in range(n):\n",
        "    cmd = input().split()\n",
        "    if cmd[0] == \"insert\":\n",
        "        lst.insert(int(cmd[1]), int(cmd[2]))\n",
        "    elif cmd[0] == \"print\":\n",
        "        print(lst)\n",
        "    elif cmd[0] == \"remove\":\n",
        "        lst.remove(int(cmd[1]))\n",
        "    elif cmd[0] == \"append\":\n",
        "        lst.append(int(cmd[1]))\n",
        "    elif cmd[0] == \"sort\":\n",
        "        lst.sort()\n",
        "    elif cmd[0] == \"pop\":\n",
        "        lst.pop()\n",
        "    elif cmd[0] == \"reverse\":\n",
        "        lst.reverse()\n",
        "\n",
        "records = []\n",
        "n = int(input())\n",
        "\n",
        "for _ in range(n):\n",
        "    name = input()\n",
        "    score = float(input())\n",
        "    records.append([name, score])\n",
        "\n",
        "scores = sorted(set([score for name, score in records]))\n",
        "second_lowest = scores[1]\n",
        "\n",
        "second_lowest_students = [name for name, score in records if score == second_lowest]\n",
        "second_lowest_students.sort()\n",
        "\n",
        "for name in second_lowest_students:\n",
        "    print(name)\n",
        "\n",
        "\n",
        "n = int(input())\n",
        "t = tuple(map(int, input().split()))\n",
        "print(hash(t))\n",
        "\n",
        "T = int(input())\n",
        "for _ in range(T):\n",
        "    s = input()\n",
        "    count_a = s.count('a')\n",
        "    count_b = s.count('b')\n",
        "    print(min(count_a, count_b))"
      ]
    }
  ]
}