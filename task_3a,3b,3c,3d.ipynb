{
  "nbformat": 4,
  "nbformat_minor": 0,
  "metadata": {
    "colab": {
      "provenance": [],
      "authorship_tag": "ABX9TyP5TVsAZKWPfab7B0KiSF62",
      "include_colab_link": true
    },
    "kernelspec": {
      "name": "python3",
      "display_name": "Python 3"
    },
    "language_info": {
      "name": "python"
    }
  },
  "cells": [
    {
      "cell_type": "markdown",
      "metadata": {
        "id": "view-in-github",
        "colab_type": "text"
      },
      "source": [
        "<a href=\"https://colab.research.google.com/github/lakshitha-4032007/python-tasks/blob/main/task_3a%2C3b%2C3c%2C3d.ipynb\" target=\"_parent\"><img src=\"https://colab.research.google.com/assets/colab-badge.svg\" alt=\"Open In Colab\"/></a>"
      ]
    },
    {
      "cell_type": "code",
      "execution_count": 9,
      "metadata": {
        "colab": {
          "base_uri": "https://localhost:8080/",
          "height": 297
        },
        "id": "wLP4kSnE_rvk",
        "outputId": "7f411adb-8ca2-4a0f-f422-fd0511416c62"
      },
      "outputs": [
        {
          "name": "stdout",
          "output_type": "stream",
          "text": [
            "04 03 2007\n",
            "TUESDAY\n",
            "444\n",
            "444 is not an Armstrong number\n",
            "Enter coordinates of point X (x1 x2): 4,3\n"
          ]
        },
        {
          "output_type": "error",
          "ename": "ValueError",
          "evalue": "invalid literal for int() with base 10: '4,3'",
          "traceback": [
            "\u001b[0;31m---------------------------------------------------------------------------\u001b[0m",
            "\u001b[0;31mValueError\u001b[0m                                Traceback (most recent call last)",
            "\u001b[0;32m/tmp/ipython-input-2235083850.py\u001b[0m in \u001b[0;36m<cell line: 0>\u001b[0;34m()\u001b[0m\n\u001b[1;32m     18\u001b[0m \u001b[0;32mimport\u001b[0m \u001b[0mmath\u001b[0m\u001b[0;34m\u001b[0m\u001b[0;34m\u001b[0m\u001b[0m\n\u001b[1;32m     19\u001b[0m \u001b[0;34m\u001b[0m\u001b[0m\n\u001b[0;32m---> 20\u001b[0;31m \u001b[0mx1\u001b[0m\u001b[0;34m,\u001b[0m \u001b[0mx2\u001b[0m \u001b[0;34m=\u001b[0m \u001b[0mmap\u001b[0m\u001b[0;34m(\u001b[0m\u001b[0mint\u001b[0m\u001b[0;34m,\u001b[0m \u001b[0minput\u001b[0m\u001b[0;34m(\u001b[0m\u001b[0;34m\"Enter coordinates of point X (x1 x2): \"\u001b[0m\u001b[0;34m)\u001b[0m\u001b[0;34m.\u001b[0m\u001b[0msplit\u001b[0m\u001b[0;34m(\u001b[0m\u001b[0;34m)\u001b[0m\u001b[0;34m)\u001b[0m\u001b[0;34m\u001b[0m\u001b[0;34m\u001b[0m\u001b[0m\n\u001b[0m\u001b[1;32m     21\u001b[0m \u001b[0my1\u001b[0m\u001b[0;34m,\u001b[0m \u001b[0my2\u001b[0m \u001b[0;34m=\u001b[0m \u001b[0mmap\u001b[0m\u001b[0;34m(\u001b[0m\u001b[0mint\u001b[0m\u001b[0;34m,\u001b[0m \u001b[0minput\u001b[0m\u001b[0;34m(\u001b[0m\u001b[0;34m\"Enter coordinates of point Y (y1 y2): \"\u001b[0m\u001b[0;34m)\u001b[0m\u001b[0;34m.\u001b[0m\u001b[0msplit\u001b[0m\u001b[0;34m(\u001b[0m\u001b[0;34m)\u001b[0m\u001b[0;34m)\u001b[0m\u001b[0;34m\u001b[0m\u001b[0;34m\u001b[0m\u001b[0m\n\u001b[1;32m     22\u001b[0m \u001b[0;34m\u001b[0m\u001b[0m\n",
            "\u001b[0;31mValueError\u001b[0m: invalid literal for int() with base 10: '4,3'"
          ]
        }
      ],
      "source": [
        "import datetime\n",
        "\n",
        "month, day, year = map(int, input().split())\n",
        "date = datetime.date(year, month, day)\n",
        "print(date.strftime(\"%A\").upper())\n",
        "\n",
        "\n",
        "x = int(input())\n",
        "n = len(str(x))\n",
        "sum_of_powers = sum(int(digit) ** n for digit in str(x))\n",
        "\n",
        "if sum_of_powers == x:\n",
        "    print(f\"{x} is an Armstrong number\")\n",
        "else:\n",
        "    print(f\"{x} is not an Armstrong number\")\n",
        "\n",
        "\n",
        "import math\n",
        "\n",
        "x1, x2 = map(int, input(\"Enter coordinates of point X (x1 x2): \").split())\n",
        "y1, y2 = map(int, input(\"Enter coordinates of point Y (y1 y2): \").split())\n",
        "\n",
        "distance = math.sqrt((x1 - y1) ** 2 + (x2 - y2) ** 2)\n",
        "print(int(distance))\n",
        "\n",
        "\n",
        "\n",
        "from .welcome import display_welcome\n",
        "from .add import add_numbers\n",
        "def display_welcome():\n",
        "    print(\"Welcome to the Greetings package!\")\n",
        "def add_numbers(a, b):\n",
        "    return a + b\n",
        "\n",
        "\n",
        "binaries = input().split(',')\n",
        "\n",
        "result = []\n",
        "\n",
        "for binary in binaries:\n",
        "    # Convert binary string to integer\n",
        "    num = int(binary, 2)\n",
        "    if num % 6 == 0:\n",
        "        result.append(binary)\n",
        "\n",
        "print(\",\".join(result))\n",
        "\n",
        "\n",
        "\n",
        "numbers = list(map(int, input(\"Enter numbers separated by space: \").split()))\n",
        "\n",
        "even_count = 0\n",
        "odd_count = 0\n",
        "\n",
        "for num in numbers:\n",
        "    if num % 2 == 0:\n",
        "        even_count += 1\n",
        "    else:\n",
        "        odd_count += 1\n",
        "\n",
        "print(\"Even numbers count:\", even_count)\n",
        "print(\"Odd numbers count:\", odd_count)"
      ]
    }
  ]
}