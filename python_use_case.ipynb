{
  "nbformat": 4,
  "nbformat_minor": 0,
  "metadata": {
    "colab": {
      "provenance": [],
      "authorship_tag": "ABX9TyM1/vCX0XF1uVAF48Fesuz3",
      "include_colab_link": true
    },
    "kernelspec": {
      "name": "python3",
      "display_name": "Python 3"
    },
    "language_info": {
      "name": "python"
    }
  },
  "cells": [
    {
      "cell_type": "markdown",
      "metadata": {
        "id": "view-in-github",
        "colab_type": "text"
      },
      "source": [
        "<a href=\"https://colab.research.google.com/github/lakshitha-4032007/python-tasks/blob/main/python_use_case.ipynb\" target=\"_parent\"><img src=\"https://colab.research.google.com/assets/colab-badge.svg\" alt=\"Open In Colab\"/></a>"
      ]
    },
    {
      "cell_type": "code",
      "execution_count": 1,
      "metadata": {
        "colab": {
          "base_uri": "https://localhost:8080/"
        },
        "id": "HUL6-Y2uFTfT",
        "outputId": "a112d324-767f-4910-e937-ce2c55d95eba"
      },
      "outputs": [
        {
          "output_type": "stream",
          "name": "stdout",
          "text": [
            "Player card 1 wins 0 out of 10 games, win rate: 0.00\n",
            "Player card 2 wins 1 out of 10 games, win rate: 0.10\n",
            "Player card 3 wins 2 out of 10 games, win rate: 0.20\n",
            "Player card 4 wins 3 out of 10 games, win rate: 0.30\n",
            "Player card 5 wins 4 out of 10 games, win rate: 0.40\n",
            "Player card 6 wins 5 out of 10 games, win rate: 0.50\n",
            "Player card 7 wins 6 out of 10 games, win rate: 0.60\n",
            "Player card 8 wins 7 out of 10 games, win rate: 0.70\n",
            "Player card 9 wins 8 out of 10 games, win rate: 0.80\n",
            "Player card 10 wins 9 out of 10 games, win rate: 0.90\n",
            "\n",
            "Best card to play is 10 with a winning probability of 0.90\n"
          ]
        }
      ],
      "source": [
        "def find_winning_strategy():\n",
        "    deck = list(range(1, 11))  # Cards from 1 to 10\n",
        "    opponent_cards = deck[:]   # Opponent can have any card\n",
        "\n",
        "    best_card = None\n",
        "    best_win_rate = 0\n",
        "\n",
        "    for player_card in deck:\n",
        "        wins = 0\n",
        "        for opp_card in opponent_cards:\n",
        "            if player_card > opp_card:\n",
        "                wins += 1\n",
        "        win_rate = wins / len(opponent_cards)\n",
        "\n",
        "        print(f\"Player card {player_card} wins {wins} out of {len(opponent_cards)} games, win rate: {win_rate:.2f}\")\n",
        "\n",
        "        if win_rate > best_win_rate:\n",
        "            best_win_rate = win_rate\n",
        "            best_card = player_card\n",
        "\n",
        "    print(f\"\\nBest card to play is {best_card} with a winning probability of {best_win_rate:.2f}\")\n",
        "\n",
        "find_winning_strategy()\n"
      ]
    }
  ]
}